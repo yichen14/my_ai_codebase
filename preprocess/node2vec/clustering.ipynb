{
 "cells": [
  {
   "cell_type": "code",
   "execution_count": 2,
   "metadata": {},
   "outputs": [],
   "source": [
    "import os\n",
    "import pickle\n",
    "import numpy as np\n",
    "from sklearn.cluster import KMeans"
   ]
  },
  {
   "cell_type": "code",
   "execution_count": 5,
   "metadata": {},
   "outputs": [],
   "source": [
    "def load_data(data_name, data_path, test_len = 3): \n",
    "    adj_time_list_path = os.path.join(data_path, data_name, \"adj_orig_dense_list.pickle\")\n",
    "    with open(adj_time_list_path, 'rb') as handle:\n",
    "        adj_time_list = pickle.load(handle,encoding=\"bytes\")\n",
    "    edge_list = set()\n",
    "    for i in range(len(adj_time_list) - test_len):\n",
    "        for j in range(len(adj_time_list[i])):\n",
    "            for k in range(len(adj_time_list[i][j])):\n",
    "                edge_list.add((str(i) + ' ' + str(k)))\n",
    "    with open(os.path.join('graph', data_name + \".edgelist\"), 'w') as handle:\n",
    "        for item in edge_list:\n",
    "            handle.write(item + '\\n')\n",
    "        handle.close()\n",
    "\n",
    "def cluster(data_name, n_class):\n",
    "    with open(\"emb/{}.emb\".format(data_name), 'r') as f:\n",
    "        n_nodes, emb_dim = f.readline().split()\n",
    "        emb = np.zeros((int(n_nodes), int(emb_dim)))\n",
    "        for line in f:\n",
    "            line = line.strip().split()\n",
    "            emb[int(line[0])] = np.array(line[1:])\n",
    "    \n",
    "    kmeans = KMeans(n_clusters=n_class, random_state=0).fit(emb)\n",
    "    label = kmeans.labels_\n",
    "    assert len(label) == len(emb)\n",
    "    return label, emb\n",
    "    \n",
    "def main(data_name, data_path, emb_dim = 128, n_class = 3):\n",
    "    load_data(data_name, data_path)\n",
    "    os.system(\"python2 src/main.py --input graph/{}.edgelist --output emb/{}.emb --dimensions {}\".format(data_name, data_name, emb_dim))\n",
    "    label, emb = cluster(data_name, n_class)\n",
    "    np.save(os.path.join(data_path, data_name, \"label.npy\"), label)\n",
    "    np.save(os.path.join(data_path, data_name, \"feat.npy\"), emb)"
   ]
  },
  {
   "cell_type": "code",
   "execution_count": 8,
   "metadata": {},
   "outputs": [],
   "source": [
    "data_name = 'reddit'\n",
    "data_path = \"../../data\"\n",
    "main(data_name, data_path)"
   ]
  },
  {
   "cell_type": "code",
   "execution_count": 17,
   "metadata": {},
   "outputs": [],
   "source": [
    "# to load the data:\n",
    "# feat = np.load(os.path.join(data_path, data_name, \"feat.npy\"))\n",
    "# label = np.load(os.path.join(data_path, data_name, \"label.npy\"))"
   ]
  },
  {
   "cell_type": "code",
   "execution_count": 18,
   "metadata": {},
   "outputs": [
    {
     "data": {
      "text/plain": [
       "array([[-0.19666353, -0.55651754,  0.0535409 , ...,  0.00447828,\n",
       "        -0.20099391, -0.10245145],\n",
       "       [-0.24548902, -0.5429511 ,  0.10524947, ..., -0.02781564,\n",
       "        -0.19045416, -0.05871525],\n",
       "       [-0.1648987 , -0.43083873,  0.07670794, ...,  0.03225543,\n",
       "        -0.22442435, -0.12292486],\n",
       "       ...,\n",
       "       [-0.16394128, -0.43593812,  0.1420592 , ...,  0.19042273,\n",
       "        -0.3346524 , -0.11045839],\n",
       "       [-0.1597476 , -0.39228153,  0.11786331, ...,  0.16231477,\n",
       "        -0.333428  , -0.11982337],\n",
       "       [-0.1853529 , -0.4134217 ,  0.12221798, ...,  0.16823433,\n",
       "        -0.3280529 , -0.11259485]])"
      ]
     },
     "execution_count": 18,
     "metadata": {},
     "output_type": "execute_result"
    }
   ],
   "source": [
    "a"
   ]
  },
  {
   "cell_type": "code",
   "execution_count": null,
   "metadata": {},
   "outputs": [],
   "source": []
  }
 ],
 "metadata": {
  "kernelspec": {
   "display_name": "Python 3.8.13 ('ruijie')",
   "language": "python",
   "name": "python3"
  },
  "language_info": {
   "codemirror_mode": {
    "name": "ipython",
    "version": 3
   },
   "file_extension": ".py",
   "mimetype": "text/x-python",
   "name": "python",
   "nbconvert_exporter": "python",
   "pygments_lexer": "ipython3",
   "version": "3.8.13"
  },
  "orig_nbformat": 4,
  "vscode": {
   "interpreter": {
    "hash": "2deedb8ccc2e4d2a62154b9a9c4b7ef31f758a61bd67fce8903375057015a369"
   }
  }
 },
 "nbformat": 4,
 "nbformat_minor": 2
}
