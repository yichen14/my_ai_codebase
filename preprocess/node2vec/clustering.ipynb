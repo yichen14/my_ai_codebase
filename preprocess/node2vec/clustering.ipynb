{
 "cells": [
  {
   "cell_type": "code",
   "execution_count": 2,
   "metadata": {},
   "outputs": [],
   "source": [
    "import os\n",
    "import pickle\n",
    "import numpy as np\n",
    "from sklearn.cluster import KMeans"
   ]
  },
  {
   "cell_type": "code",
   "execution_count": 5,
   "metadata": {},
   "outputs": [],
   "source": [
    "def load_data(data_name, data_path, test_len = 3): \n",
    "    adj_time_list_path = os.path.join(data_path, data_name, \"adj_orig_dense_list.pickle\")\n",
    "    with open(adj_time_list_path, 'rb') as handle:\n",
    "        adj_time_list = pickle.load(handle,encoding=\"bytes\")\n",
    "    edge_list = set()\n",
    "    for i in range(len(adj_time_list) - test_len):\n",
    "        for j in range(len(adj_time_list[i])):\n",
    "            for k in range(len(adj_time_list[i][j])):\n",
    "                edge_list.add((str(i) + ' ' + str(k)))\n",
    "    with open(ps.path.join('graph', data_name + \".edgelist\"), 'w') as handle:\n",
    "        for item in edge_list:\n",
    "            handle.write(item + '\\n')\n",
    "        handle.close()\n",
    "\n",
    "def cluster(data_name, n_class):\n",
    "    with open(\"emb/{}.emb\".format(data_name), 'b') as f:\n",
    "        n_nodes, emb_dim = f.readline().split()\n",
    "        emb = np.zeros((int(n_nodes), int(emb_dim)))\n",
    "        for line in f:\n",
    "            line = line.strip().split()\n",
    "            emb[int(line[0])] = np.array(line[1:])\n",
    "    \n",
    "    kmeans = KMeans(n_clusters=n_class, random_state=0).fit(emb)\n",
    "    label = kmeans.labels_\n",
    "    assert len(label) == len(emb)\n",
    "    return label, emb\n",
    "    \n",
    "    return label, emb\n",
    "def main(data_name, data_path, emb_dim = 32, n_class = 3):\n",
    "    load_data(data_name, data_path)\n",
    "    os.system(\"python2 src/main.py --input graph/{}.edgelist --output emb/{}.emb --dimensions {}\".format(data_name, data_name, emb_dim))\n",
    "    label, emb = cluster(data_name, n_class)\n",
    "    np.save(os.path.join(data_path, data_name, \"label.npy\"), label)\n",
    "    np.save(os.path.join(data_path, data_name, \"feat.npy\"), emb)"
   ]
  },
  {
   "cell_type": "code",
   "execution_count": 6,
   "metadata": {},
   "outputs": [
    {
     "name": "stderr",
     "output_type": "stream",
     "text": [
      "Traceback (most recent call last):\n",
      "  File \"src/main.py\", line 105, in <module>\n",
      "    main(args)\n",
      "  File \"src/main.py\", line 97, in main\n",
      "    nx_G = read_graph()\n",
      "  File \"src/main.py\", line 74, in read_graph\n",
      "    G = nx.read_edgelist(args.input, nodetype=int, create_using=nx.DiGraph())\n",
      "  File \"<decorator-gen-580>\", line 2, in read_edgelist\n",
      "  File \"/usr/lib/python2.7/site-packages/networkx/utils/decorators.py\", line 214, in _open_file\n",
      "    fobj = _dispatch_dict[ext](path, mode=mode)\n",
      "IOError: [Errno 2] No such file or directory: 'graph/fb.edgelist'\n"
     ]
    },
    {
     "ename": "ValueError",
     "evalue": "Must have exactly one of create/read/write/append mode and at most one plus",
     "output_type": "error",
     "traceback": [
      "\u001b[0;31m---------------------------------------------------------------------------\u001b[0m",
      "\u001b[0;31mValueError\u001b[0m                                Traceback (most recent call last)",
      "\u001b[1;32m/home/ec2-user/quic-efs/user/ruijiew/my_ai_codebase/preprocess/node2vec/script.ipynb Cell 3\u001b[0m in \u001b[0;36m<cell line: 3>\u001b[0;34m()\u001b[0m\n\u001b[1;32m      <a href='vscode-notebook-cell://ssh-remote%2Bserver/home/ec2-user/quic-efs/user/ruijiew/my_ai_codebase/preprocess/node2vec/script.ipynb#ch0000002vscode-remote?line=0'>1</a>\u001b[0m data_name \u001b[39m=\u001b[39m \u001b[39m'\u001b[39m\u001b[39mfb\u001b[39m\u001b[39m'\u001b[39m\n\u001b[1;32m      <a href='vscode-notebook-cell://ssh-remote%2Bserver/home/ec2-user/quic-efs/user/ruijiew/my_ai_codebase/preprocess/node2vec/script.ipynb#ch0000002vscode-remote?line=1'>2</a>\u001b[0m data_path \u001b[39m=\u001b[39m \u001b[39m'\u001b[39m\u001b[39m../../data\u001b[39m\u001b[39m'\u001b[39m\n\u001b[0;32m----> <a href='vscode-notebook-cell://ssh-remote%2Bserver/home/ec2-user/quic-efs/user/ruijiew/my_ai_codebase/preprocess/node2vec/script.ipynb#ch0000002vscode-remote?line=2'>3</a>\u001b[0m main(data_name, data_path)\n",
      "\u001b[1;32m/home/ec2-user/quic-efs/user/ruijiew/my_ai_codebase/preprocess/node2vec/script.ipynb Cell 3\u001b[0m in \u001b[0;36mmain\u001b[0;34m(data_name, data_path, emb_dim, n_class)\u001b[0m\n\u001b[1;32m     <a href='vscode-notebook-cell://ssh-remote%2Bserver/home/ec2-user/quic-efs/user/ruijiew/my_ai_codebase/preprocess/node2vec/script.ipynb#ch0000002vscode-remote?line=29'>30</a>\u001b[0m load_data(data_name, data_path)\n\u001b[1;32m     <a href='vscode-notebook-cell://ssh-remote%2Bserver/home/ec2-user/quic-efs/user/ruijiew/my_ai_codebase/preprocess/node2vec/script.ipynb#ch0000002vscode-remote?line=30'>31</a>\u001b[0m os\u001b[39m.\u001b[39msystem(\u001b[39m\"\u001b[39m\u001b[39mpython2 src/main.py --input graph/\u001b[39m\u001b[39m{}\u001b[39;00m\u001b[39m.edgelist --output emb/\u001b[39m\u001b[39m{}\u001b[39;00m\u001b[39m.emb --dimensions \u001b[39m\u001b[39m{}\u001b[39;00m\u001b[39m\"\u001b[39m\u001b[39m.\u001b[39mformat(data_name, data_name, emb_dim))\n\u001b[0;32m---> <a href='vscode-notebook-cell://ssh-remote%2Bserver/home/ec2-user/quic-efs/user/ruijiew/my_ai_codebase/preprocess/node2vec/script.ipynb#ch0000002vscode-remote?line=31'>32</a>\u001b[0m label, emb \u001b[39m=\u001b[39m cluster(data_name, n_class)\n\u001b[1;32m     <a href='vscode-notebook-cell://ssh-remote%2Bserver/home/ec2-user/quic-efs/user/ruijiew/my_ai_codebase/preprocess/node2vec/script.ipynb#ch0000002vscode-remote?line=32'>33</a>\u001b[0m np\u001b[39m.\u001b[39msave(os\u001b[39m.\u001b[39mpath\u001b[39m.\u001b[39mjoin(data_path, data_name, \u001b[39m\"\u001b[39m\u001b[39mlabel.npy\u001b[39m\u001b[39m\"\u001b[39m), label)\n\u001b[1;32m     <a href='vscode-notebook-cell://ssh-remote%2Bserver/home/ec2-user/quic-efs/user/ruijiew/my_ai_codebase/preprocess/node2vec/script.ipynb#ch0000002vscode-remote?line=33'>34</a>\u001b[0m np\u001b[39m.\u001b[39msave(os\u001b[39m.\u001b[39mpath\u001b[39m.\u001b[39mjoin(data_path, data_name, \u001b[39m\"\u001b[39m\u001b[39mfeat.npy\u001b[39m\u001b[39m\"\u001b[39m), emb)\n",
      "\u001b[1;32m/home/ec2-user/quic-efs/user/ruijiew/my_ai_codebase/preprocess/node2vec/script.ipynb Cell 3\u001b[0m in \u001b[0;36mcluster\u001b[0;34m(data_name, n_class)\u001b[0m\n\u001b[1;32m     <a href='vscode-notebook-cell://ssh-remote%2Bserver/home/ec2-user/quic-efs/user/ruijiew/my_ai_codebase/preprocess/node2vec/script.ipynb#ch0000002vscode-remote?line=14'>15</a>\u001b[0m \u001b[39mdef\u001b[39;00m \u001b[39mcluster\u001b[39m(data_name, n_class):\n\u001b[0;32m---> <a href='vscode-notebook-cell://ssh-remote%2Bserver/home/ec2-user/quic-efs/user/ruijiew/my_ai_codebase/preprocess/node2vec/script.ipynb#ch0000002vscode-remote?line=15'>16</a>\u001b[0m     \u001b[39mwith\u001b[39;00m \u001b[39mopen\u001b[39;49m(\u001b[39m\"\u001b[39;49m\u001b[39memb/\u001b[39;49m\u001b[39m{}\u001b[39;49;00m\u001b[39m.emb\u001b[39;49m\u001b[39m\"\u001b[39;49m\u001b[39m.\u001b[39;49mformat(data_name), \u001b[39m'\u001b[39;49m\u001b[39mb\u001b[39;49m\u001b[39m'\u001b[39;49m) \u001b[39mas\u001b[39;00m f:\n\u001b[1;32m     <a href='vscode-notebook-cell://ssh-remote%2Bserver/home/ec2-user/quic-efs/user/ruijiew/my_ai_codebase/preprocess/node2vec/script.ipynb#ch0000002vscode-remote?line=16'>17</a>\u001b[0m         n_nodes, emb_dim \u001b[39m=\u001b[39m f\u001b[39m.\u001b[39mreadline()\u001b[39m.\u001b[39msplit()\n\u001b[1;32m     <a href='vscode-notebook-cell://ssh-remote%2Bserver/home/ec2-user/quic-efs/user/ruijiew/my_ai_codebase/preprocess/node2vec/script.ipynb#ch0000002vscode-remote?line=17'>18</a>\u001b[0m         emb \u001b[39m=\u001b[39m np\u001b[39m.\u001b[39mzeros((\u001b[39mint\u001b[39m(n_nodes), \u001b[39mint\u001b[39m(emb_dim)))\n",
      "\u001b[0;31mValueError\u001b[0m: Must have exactly one of create/read/write/append mode and at most one plus"
     ]
    }
   ],
   "source": [
    "data_name = 'fb'\n",
    "data_path = '../../data'\n",
    "main(data_name, data_path)"
   ]
  },
  {
   "cell_type": "code",
   "execution_count": null,
   "metadata": {},
   "outputs": [],
   "source": []
  }
 ],
 "metadata": {
  "kernelspec": {
   "display_name": "Python 3.8.13 ('ruijie')",
   "language": "python",
   "name": "python3"
  },
  "language_info": {
   "codemirror_mode": {
    "name": "ipython",
    "version": 3
   },
   "file_extension": ".py",
   "mimetype": "text/x-python",
   "name": "python",
   "nbconvert_exporter": "python",
   "pygments_lexer": "ipython3",
   "version": "3.8.13"
  },
  "orig_nbformat": 4,
  "vscode": {
   "interpreter": {
    "hash": "2deedb8ccc2e4d2a62154b9a9c4b7ef31f758a61bd67fce8903375057015a369"
   }
  }
 },
 "nbformat": 4,
 "nbformat_minor": 2
}
